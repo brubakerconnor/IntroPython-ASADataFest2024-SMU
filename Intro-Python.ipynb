{
 "cells": [
  {
   "cell_type": "markdown",
   "id": "732f8ec7-56b0-4c60-8218-067e7cab4684",
   "metadata": {},
   "source": [
    "# Introduction to Data Wrangling and Visualization in Python\n",
    "\n",
    "ASA DataFest 2024\\\n",
    "Southern Methodist University, Dallas, TX\\\n",
    "Instructor: Connor Brubaker\\\n",
    "Department of Statistics\\\n",
    "Texas A&M University"
   ]
  },
  {
   "cell_type": "code",
   "execution_count": null,
   "id": "9208b782-b30f-4010-ad78-55fcf47d4df2",
   "metadata": {},
   "outputs": [],
   "source": []
  }
 ],
 "metadata": {
  "kernelspec": {
   "display_name": "Python 3 (ipykernel)",
   "language": "python",
   "name": "python3"
  },
  "language_info": {
   "codemirror_mode": {
    "name": "ipython",
    "version": 3
   },
   "file_extension": ".py",
   "mimetype": "text/x-python",
   "name": "python",
   "nbconvert_exporter": "python",
   "pygments_lexer": "ipython3",
   "version": "3.11.5"
  }
 },
 "nbformat": 4,
 "nbformat_minor": 5
}
