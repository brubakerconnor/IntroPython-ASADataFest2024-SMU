{
 "cells": [
  {
   "cell_type": "markdown",
   "id": "732f8ec7-56b0-4c60-8218-067e7cab4684",
   "metadata": {},
   "source": [
    "# Introduction to Python for Data Science\n",
    "\n",
    "ASA DataFest 2024\\\n",
    "Southern Methodist University, Dallas, TX\\\n",
    "Instructor: Connor Brubaker\\\n",
    "Department of Statistics\\\n",
    "Texas A&M University\n",
    "\n",
    "Installing and interacting with Python, basics of the Python language, essential Python data structures, elementary data wrangling, and basic data visualization.\n",
    "\n",
    "**Follow the instructions on the home page of the GitHub repository this notebook is hosted at to install miniconda and required packages including Jupyter Lab.**"
   ]
  },
  {
   "cell_type": "markdown",
   "id": "f7507023-a4ac-4aee-8eae-6a57dca979a7",
   "metadata": {},
   "source": [
    "## Loading required packages\n",
    "\n",
    "In Python, packages are loaded using the `import` command. Once you import a package, you now have access to the functions and modules contained in the package."
   ]
  },
  {
   "cell_type": "code",
   "execution_count": null,
   "id": "1088d81f-06de-4dcb-b87d-dab631993347",
   "metadata": {
    "tags": []
   },
   "outputs": [],
   "source": [
    "import os\n",
    "import numpy as np\n",
    "import pandas as pd\n",
    "from matplotlib import pyplot as plt"
   ]
  },
  {
   "cell_type": "markdown",
   "id": "026fa929-2e14-4bbe-acf3-cee6b617f7f7",
   "metadata": {},
   "source": [
    "So now if you want to access the function `mean` contained in the numpy package, for example, you can type `np.mean()`."
   ]
  },
  {
   "cell_type": "code",
   "execution_count": null,
   "id": "8602fff9-fec5-4fdb-8f58-2220dd31cbb6",
   "metadata": {
    "tags": []
   },
   "outputs": [],
   "source": [
    "x = [1, 2, 3, 4, 5]\n",
    "np.mean(x)"
   ]
  },
  {
   "cell_type": "markdown",
   "id": "68d3ec34-9e49-4410-bc0e-bb1adfdb9fab",
   "metadata": {
    "tags": []
   },
   "source": [
    "## Basic Python data structures\n",
    "\n",
    "There are three important data structures in base Python:\n",
    "\n",
    "1. **List** - variable-length, mutable sequence of objects\n",
    "2. **Tuple** - fixed-length, immutable sequence of objects\n",
    "3. **Dictionary** - collection of key-value pairs"
   ]
  },
  {
   "cell_type": "markdown",
   "id": "c927096b-f695-49bf-9232-766cfee160c3",
   "metadata": {},
   "source": [
    "### Lists\n",
    "\n",
    "Lists are mutable (can change) collections of objects. The objects of a list can be different types. Lists are instantiated using square brackets `[]`."
   ]
  },
  {
   "cell_type": "code",
   "execution_count": null,
   "id": "82af1842-10b7-4e59-bc24-8f3236ef7629",
   "metadata": {
    "tags": []
   },
   "outputs": [],
   "source": [
    "colors = ['red', 'green', 'blue']\n",
    "print(colors)"
   ]
  },
  {
   "cell_type": "code",
   "execution_count": null,
   "id": "dd727564-3512-48c7-b59b-145eea24cea1",
   "metadata": {
    "tags": []
   },
   "outputs": [],
   "source": [
    "a_list = [24, 'hours', 7, 'days']\n",
    "print(a_list)"
   ]
  },
  {
   "cell_type": "markdown",
   "id": "d6110c5b-b917-4734-9344-880624caff59",
   "metadata": {
    "tags": []
   },
   "source": [
    "Python allows you to iterate over items of a list."
   ]
  },
  {
   "cell_type": "code",
   "execution_count": null,
   "id": "f9c27f5e-bd92-429a-a971-8382be02c749",
   "metadata": {
    "tags": []
   },
   "outputs": [],
   "source": [
    "for item in colors:\n",
    "    print(item)"
   ]
  },
  {
   "cell_type": "markdown",
   "id": "9493ecb4-3653-4245-8574-cded0269540c",
   "metadata": {},
   "source": [
    "You can access items in a list using square brackets `[]`:"
   ]
  },
  {
   "cell_type": "code",
   "execution_count": null,
   "id": "1b7a3d53-a9c2-4008-9412-b6e210f1fa36",
   "metadata": {
    "tags": []
   },
   "outputs": [],
   "source": [
    "colors[0]"
   ]
  },
  {
   "cell_type": "markdown",
   "id": "3d9fd332-3702-4670-9f36-a0157c3f285c",
   "metadata": {},
   "source": [
    "Items are added to a list using either the `append` or `insert` methods."
   ]
  },
  {
   "cell_type": "code",
   "execution_count": null,
   "id": "02471cbc-a162-4de5-80d0-dbf1be5db5dc",
   "metadata": {
    "tags": []
   },
   "outputs": [],
   "source": [
    "print(colors)\n",
    "colors.append('yellow')\n",
    "print(colors)\n",
    "colors.insert(2, 'purple')\n",
    "print(colors)"
   ]
  },
  {
   "cell_type": "markdown",
   "id": "ed3f3eac-0bf4-4b84-894a-2eb937f0fd05",
   "metadata": {},
   "source": [
    "Concatenation is done using the `+` operator."
   ]
  },
  {
   "cell_type": "code",
   "execution_count": null,
   "id": "4d095ef2-35ff-43cb-86cf-84dbdd71b571",
   "metadata": {
    "tags": []
   },
   "outputs": [],
   "source": [
    "new_list = [1, 2, 3] + [4, 5, 6]\n",
    "print(new_list)"
   ]
  },
  {
   "cell_type": "markdown",
   "id": "058c1d79-279f-4a67-933e-47af2c5dfcf4",
   "metadata": {},
   "source": [
    "Nested lists are important for matrix-based operations common in data science."
   ]
  },
  {
   "cell_type": "code",
   "execution_count": null,
   "id": "80a89aad-604a-4d38-894b-f8bd0798a8f4",
   "metadata": {
    "tags": []
   },
   "outputs": [],
   "source": [
    "X = [[1, 1, 1, 1], [2, 2, 2, 2], [3, 3, 3, 3]]\n",
    "for row in X:\n",
    "    print(row)"
   ]
  },
  {
   "cell_type": "code",
   "execution_count": null,
   "id": "1a3d97b4-9f92-4741-ab27-68f240cfeef5",
   "metadata": {
    "tags": []
   },
   "outputs": [],
   "source": [
    "Y = [[-3, -3, -3, -3], [-2, -2, -2, -2], [-1, -1, -1, -1]]\n",
    "result = [[0, 0, 0, 0], [0, 0, 0, 0], [0, 0, 0, 0]] # placeholder\n",
    "for i in range(len(X)):\n",
    "    for j in range(len(Y)):\n",
    "        result[i][j] = X[i][j] + Y[i][j]\n",
    "        \n",
    "print(result)"
   ]
  },
  {
   "cell_type": "markdown",
   "id": "41abc52e-d1ff-418f-a162-df241ce944b7",
   "metadata": {},
   "source": [
    "### Tuples\n",
    "\n",
    "Tuples are similar to lists, but they cannot be modified after they are created."
   ]
  },
  {
   "cell_type": "code",
   "execution_count": null,
   "id": "1617ccf1-cd3f-4269-a0f4-3b9bf0525409",
   "metadata": {
    "tags": []
   },
   "outputs": [],
   "source": [
    "# create tuple\n",
    "tup = (1, 2, 3) # tuples created using round brackets\n",
    "tup"
   ]
  },
  {
   "cell_type": "code",
   "execution_count": null,
   "id": "621b1b3a-cd8d-489e-8ce2-1d360d21da10",
   "metadata": {
    "tags": []
   },
   "outputs": [],
   "source": [
    "# access the first element\n",
    "tup[0] "
   ]
  },
  {
   "cell_type": "code",
   "execution_count": null,
   "id": "c5fda172-bb5e-435d-b540-dbfc10b1087a",
   "metadata": {
    "tags": []
   },
   "outputs": [],
   "source": [
    "# unable to modify items in the tuple\n",
    "tup[1] = 3"
   ]
  },
  {
   "cell_type": "markdown",
   "id": "0d6893b0-743e-497e-9f05-81246e3346b2",
   "metadata": {},
   "source": [
    "### Dictionaries\n",
    "\n",
    "Dictionaries consist of a collection of key-value pairs. These will be important when discussing DataFrames later on."
   ]
  },
  {
   "cell_type": "code",
   "execution_count": null,
   "id": "655d2d9a-5612-4ad2-9721-f6530d89f897",
   "metadata": {
    "tags": []
   },
   "outputs": [],
   "source": [
    "# create a dictionary with three key-value pairs\n",
    "# separated by :\n",
    "dict1 = {\"a\": \"a string\", \n",
    "         \"b\": [1, 2, 3, 4], \n",
    "         \"c\": (3, 4, 5)}\n",
    "print(dict1)"
   ]
  },
  {
   "cell_type": "code",
   "execution_count": null,
   "id": "97515c56-5bd2-4208-a0cc-df98a25206b1",
   "metadata": {
    "tags": []
   },
   "outputs": [],
   "source": [
    "# get item in dictionary by key\n",
    "print(dict1[\"a\"])"
   ]
  },
  {
   "cell_type": "code",
   "execution_count": null,
   "id": "826d7817-441a-445e-9b07-9d2099bce1f3",
   "metadata": {
    "tags": []
   },
   "outputs": [],
   "source": [
    "# get the 2nd element of the array with key 'b' \n",
    "print(dict1[\"b\"])\n",
    "print(dict1[\"b\"][1])"
   ]
  },
  {
   "cell_type": "code",
   "execution_count": null,
   "id": "55b29e58-9300-40d9-a745-bc6ed4dfb834",
   "metadata": {
    "tags": []
   },
   "outputs": [],
   "source": [
    "# get the keys of the dictionary\n",
    "print(dict1.keys())"
   ]
  },
  {
   "cell_type": "code",
   "execution_count": null,
   "id": "1daf932c-78c5-41c3-9740-669476c6815e",
   "metadata": {
    "tags": []
   },
   "outputs": [],
   "source": [
    "# get the values of the dictionary\n",
    "print(dict1.values())"
   ]
  },
  {
   "cell_type": "code",
   "execution_count": null,
   "id": "823dd70c-92c4-46c3-bd2e-ef582d23e488",
   "metadata": {
    "tags": []
   },
   "outputs": [],
   "source": [
    "# if ever in doubt on what the object type is, use the type() function\n",
    "type(tup)\n",
    "type(a_list)\n",
    "type(dict1)"
   ]
  },
  {
   "cell_type": "markdown",
   "id": "0306cedf-9130-4c7f-8e7a-18eb2dc8e53e",
   "metadata": {},
   "source": [
    "### Exercise 1: Creating a dictionary\n",
    "\n",
    "Start by creating an empty dictionary. Then create 3 keys for the dictionary and assign them values based on below."
   ]
  },
  {
   "cell_type": "code",
   "execution_count": null,
   "id": "56a0c330-7c6f-4795-acd6-2ba0c91f7e17",
   "metadata": {
    "tags": []
   },
   "outputs": [],
   "source": [
    "email = {} # create empty dictionary\n",
    "email['subject'] = 'Your car\\'s warranty is about to expire!'\n",
    "email['from'] = \n",
    "email['to'] = \n",
    "print(email)"
   ]
  },
  {
   "cell_type": "markdown",
   "id": "b9701a23-56fd-4ee1-beb6-90d80638ea19",
   "metadata": {},
   "source": [
    "Create a new key called `cc` (carbon copy) and assign it a list of 3 fake email addresses."
   ]
  },
  {
   "cell_type": "code",
   "execution_count": null,
   "id": "d1cd7e02-bb11-4738-b63a-edcfa210d0c5",
   "metadata": {
    "tags": []
   },
   "outputs": [],
   "source": [
    "# create the new field on the line below\n",
    "\n",
    "print(email)"
   ]
  },
  {
   "cell_type": "markdown",
   "id": "76e2dcb0-c3e0-490f-961c-fe87391ed8f1",
   "metadata": {
    "tags": []
   },
   "source": [
    "## Booleans and comparison operators\n",
    "\n",
    "A boolean variable is one that can have only two possible values: `True` or `False`. Comparison operators are important for filtering data sets. Later, we will see that you can actually compare all values in the column of a data frame to a single value to perform filtering. Here are the Python comparison operators:\n",
    "\n",
    "* `<` - less than\n",
    "* `<=` - less than or equal to\n",
    "* `>` - greater than\n",
    "* `>=` - greater than or equal to\n",
    "* `==` - equivalent to\n",
    "* `!=` - no equivalent to"
   ]
  },
  {
   "cell_type": "code",
   "execution_count": null,
   "id": "d4cf390f-0df7-4151-aa08-9531080ed747",
   "metadata": {
    "tags": []
   },
   "outputs": [],
   "source": [
    "x = [5, 6, 7]\n",
    "x[0] < 6"
   ]
  },
  {
   "cell_type": "code",
   "execution_count": null,
   "id": "b67ff4ac-8055-40ea-9302-fe0bfb84a2dc",
   "metadata": {
    "tags": []
   },
   "outputs": [],
   "source": [
    "x[2] > 10"
   ]
  },
  {
   "cell_type": "code",
   "execution_count": null,
   "id": "bc3f0202-304b-4dce-a7a2-a21234d3a751",
   "metadata": {
    "tags": []
   },
   "outputs": [],
   "source": [
    "[3, 6, 8] == [3, 6, 8]"
   ]
  },
  {
   "cell_type": "code",
   "execution_count": null,
   "id": "003dde18-71eb-4d0b-8545-eb1695127a53",
   "metadata": {
    "tags": []
   },
   "outputs": [],
   "source": [
    "[2, 9, 4] == [2, 9, 5]"
   ]
  },
  {
   "cell_type": "markdown",
   "id": "3716e6d1-3e23-44a3-8797-b6431c514450",
   "metadata": {},
   "source": [
    "## Introduction to pandas"
   ]
  },
  {
   "cell_type": "markdown",
   "id": "8b7dd823-4b9d-4358-a7a8-02dbcb629596",
   "metadata": {},
   "source": [
    "The `pandas` package has many functions for reading, manipulating, and wrangling data. There are two fundamental structures implemented in `pandas`:\n",
    "\n",
    "* **Series** - a one dimensional array-like object with an associated array of data labels called its index.\n",
    "* **DataFrame** - a rectangular table of data; it can be thought of as a collection of Series objects with a common index."
   ]
  },
  {
   "cell_type": "code",
   "execution_count": null,
   "id": "985282f4-d8a3-4e51-b418-b9b6353c6b24",
   "metadata": {
    "tags": []
   },
   "outputs": [],
   "source": [
    "s = pd.Series([0, 3, 4, 6]) # with the default index\n",
    "print(s)"
   ]
  },
  {
   "cell_type": "code",
   "execution_count": null,
   "id": "fd98d1d7-093c-4522-80fb-cb18f928538a",
   "metadata": {
    "tags": []
   },
   "outputs": [],
   "source": [
    "# like with tuples and lists, you can access elements by integer index using []\n",
    "print(s[1])"
   ]
  },
  {
   "cell_type": "code",
   "execution_count": null,
   "id": "30cf3b2e-f0a7-4fae-a7c1-05295a43dc55",
   "metadata": {
    "tags": []
   },
   "outputs": [],
   "source": [
    "# create a series object with a custom index\n",
    "s = pd.Series([2, 3, 4, 5], index=['a', 'b', 'c', 'd'])\n",
    "print(s)"
   ]
  },
  {
   "cell_type": "code",
   "execution_count": null,
   "id": "8243d3c6-e2b9-47db-9f16-89bc57c20fd5",
   "metadata": {
    "tags": []
   },
   "outputs": [],
   "source": [
    "print(s['b'])"
   ]
  },
  {
   "cell_type": "code",
   "execution_count": null,
   "id": "9a3096e7-f6dc-4726-a2aa-667687049c29",
   "metadata": {
    "tags": []
   },
   "outputs": [],
   "source": [
    "# data frames are creating using dictionaries\n",
    "data = {\"state\": [\"Ohio\", \"Ohio\", \"Ohio\", \"Nevada\", \"Nevada\", \"Nevada\"],\n",
    "        \"year\": [2000, 2001, 2002, 2001, 2002, 2003],\n",
    "        \"pop\": [1.5, 1.7, 3.6, 2.4, 2.9, 3.2]}\n",
    "df = pd.DataFrame(data)\n",
    "print(df)"
   ]
  },
  {
   "cell_type": "code",
   "execution_count": null,
   "id": "cb48786c-92c6-43f5-8f3a-ee0fdb0ac097",
   "metadata": {
    "tags": []
   },
   "outputs": [],
   "source": [
    "print(df.index)"
   ]
  },
  {
   "cell_type": "code",
   "execution_count": null,
   "id": "ad14239c-3727-409c-b1e5-9f970c16dccb",
   "metadata": {
    "tags": []
   },
   "outputs": [],
   "source": [
    "# column names can be accessed and changed\n",
    "print(df.columns)"
   ]
  },
  {
   "cell_type": "code",
   "execution_count": null,
   "id": "92961d95-78f2-46d5-8a9b-08f55208bda2",
   "metadata": {
    "tags": []
   },
   "outputs": [],
   "source": [
    "# you can modify column names\n",
    "df.columns = [\"STATE\", \"YEAR\", \"POP\"]\n",
    "print(df.columns)"
   ]
  },
  {
   "cell_type": "code",
   "execution_count": null,
   "id": "367c9a5d-9df3-40b9-a3b2-3a3725c1759e",
   "metadata": {
    "tags": []
   },
   "outputs": [],
   "source": [
    "# print the first 3 rows\n",
    "df.head(3)"
   ]
  },
  {
   "cell_type": "code",
   "execution_count": null,
   "id": "7e95c30d-cbf8-4706-899d-a771218ff224",
   "metadata": {
    "tags": []
   },
   "outputs": [],
   "source": [
    "# print last 3 rows\n",
    "df.tail(3)"
   ]
  },
  {
   "cell_type": "code",
   "execution_count": null,
   "id": "4d89dce5-0750-47bc-8b65-4bb598a6c66d",
   "metadata": {
    "tags": []
   },
   "outputs": [],
   "source": [
    "# access an entire column\n",
    "print(df['STATE'])"
   ]
  },
  {
   "cell_type": "code",
   "execution_count": null,
   "id": "c343bf3a-3340-42b5-b2a1-f20343d913fc",
   "metadata": {
    "tags": []
   },
   "outputs": [],
   "source": [
    "# a column is a Series\n",
    "type(df['STATE'])"
   ]
  },
  {
   "cell_type": "code",
   "execution_count": null,
   "id": "3a82f156-acd0-447a-9a94-604e53ba2e6c",
   "metadata": {
    "tags": []
   },
   "outputs": [],
   "source": [
    "# access specific element of a column\n",
    "print(df['STATE'][1])"
   ]
  },
  {
   "cell_type": "markdown",
   "id": "22735d92-5262-4e3c-8124-9772335c5617",
   "metadata": {},
   "source": [
    "## Reading data into a `DataFrame`\n",
    "\n",
    "The `pandas` package contains a variety of functions for reading data into a `DataFrame` from a file depending on the file type. The most common format is the comma separated values (CSV) format for which the function `read_csv()` is used.\n",
    "\n",
    "The data set we will work with here is a collection of data on hurricanes that made landfall in the mainland United States between 1950 and 2012."
   ]
  },
  {
   "cell_type": "code",
   "execution_count": null,
   "id": "5afbb721-f9ea-4dd6-9960-1a9a91314f02",
   "metadata": {
    "tags": []
   },
   "outputs": [],
   "source": [
    "hurricane = pd.read_csv(\"data/hurricane.csv\")"
   ]
  },
  {
   "cell_type": "code",
   "execution_count": null,
   "id": "98dad009-c165-42c9-944d-48d823b70f89",
   "metadata": {
    "tags": []
   },
   "outputs": [],
   "source": [
    "# preview the data\n",
    "hurricane.head()"
   ]
  },
  {
   "cell_type": "code",
   "execution_count": null,
   "id": "56dca8f5-cebb-4f6e-a2e5-70a59f0b7e42",
   "metadata": {
    "tags": []
   },
   "outputs": [],
   "source": [
    "# get the number of rows and variables\n",
    "hurricane.shape"
   ]
  },
  {
   "cell_type": "markdown",
   "id": "d783873d-edad-4d4c-9c3c-a64ae2d2420a",
   "metadata": {},
   "source": [
    "### Exercise 2: Working with Data Frames\n",
    "\n",
    "Use the `type` function to determine the type of `hurricane` and verify it is a `DataFrame` object. Then go to the documentation on the `nunique` function: https://pandas.pydata.org/docs/reference/api/pandas.DataFrame.nunique.html\n",
    "and use it to determine the number of unique elements in each column. What value do you have to specify for `axis`?"
   ]
  },
  {
   "cell_type": "code",
   "execution_count": null,
   "id": "ce51f039-557e-4709-9a17-62b219bcc2ae",
   "metadata": {
    "tags": []
   },
   "outputs": [],
   "source": []
  },
  {
   "cell_type": "markdown",
   "id": "438319bb-5109-4dce-aa2b-079cb8bcb000",
   "metadata": {},
   "source": [
    "## Descriptive statistics"
   ]
  },
  {
   "cell_type": "markdown",
   "id": "e9b68a77-97c7-4f85-b532-ba2c9ef9ba2e",
   "metadata": {},
   "source": [
    "The `DataFrame` object has a variety of methods for computing descriptive and summary statistics. One way to get a bunch at the same time is using the `describe` method. A concise summary of these is found here: https://pandas.pydata.org/docs/user_guide/basics.html#basics-stats"
   ]
  },
  {
   "cell_type": "code",
   "execution_count": null,
   "id": "b4e61e5d-3e6e-44ca-a8b2-ed8193f68b29",
   "metadata": {
    "tags": []
   },
   "outputs": [],
   "source": [
    "# notice that it only summarizes numerical columns\n",
    "hurricane.describe()"
   ]
  },
  {
   "cell_type": "markdown",
   "id": "e9bd8f8b-a4f7-4b14-b62c-7543913890f3",
   "metadata": {},
   "source": [
    "We can also compute correlations and covariances within the data frame quite easily. For example, if we want to compute the correlation between two specific columns, we do the following."
   ]
  },
  {
   "cell_type": "code",
   "execution_count": null,
   "id": "f577d5f2-d94b-4d3c-9b7c-19aee8ca5cd3",
   "metadata": {
    "tags": []
   },
   "outputs": [],
   "source": [
    "# select the WindSpeed column then call the corr method \n",
    "# to compute its correlation with the Pressure column\n",
    "hurricane['WindSpeed'].corr(hurricane['Pressure'])"
   ]
  },
  {
   "cell_type": "code",
   "execution_count": null,
   "id": "e36386c3-55f1-4eb4-b55e-cd5366b5413c",
   "metadata": {
    "tags": []
   },
   "outputs": [],
   "source": [
    "# same thing but to get correlation between WindSpeed and \n",
    "# Damage2014 (the USD value of property damage in 2014 dollars)\n",
    "hurricane['WindSpeed'].corr(hurricane['Damage2014'])"
   ]
  },
  {
   "cell_type": "code",
   "execution_count": null,
   "id": "27a8f656-645d-40d6-97c3-f402f34e89b4",
   "metadata": {
    "tags": []
   },
   "outputs": [],
   "source": [
    "# you can even compute all cross correlations between all\n",
    "# numerical columns at once\n",
    "hurricane.corr(numeric_only=True)"
   ]
  },
  {
   "cell_type": "code",
   "execution_count": null,
   "id": "8b3c1bec-fdb0-453f-a1a5-cd9b3dc31e23",
   "metadata": {
    "tags": []
   },
   "outputs": [],
   "source": [
    "# sometimes we need to know the unique values of a column as well\n",
    "# as the number of times they show up \n",
    "unique_years = hurricane['Year'].unique()\n",
    "unique_years"
   ]
  },
  {
   "cell_type": "code",
   "execution_count": null,
   "id": "3eb6065b-f360-4d7d-81c6-f5b0fcfd43ae",
   "metadata": {
    "tags": []
   },
   "outputs": [],
   "source": [
    "# how many unique years show up in the data?\n",
    "len(unique_years)"
   ]
  },
  {
   "cell_type": "code",
   "execution_count": null,
   "id": "a2761722-7138-4890-b1b4-44b824538412",
   "metadata": {
    "tags": []
   },
   "outputs": [],
   "source": [
    "# how many hurricanes in each year?\n",
    "# only show the first few years\n",
    "hurricane['Year'].value_counts().head()"
   ]
  },
  {
   "cell_type": "markdown",
   "id": "04afe61e-0d1a-43f8-a1e5-508f389dec8c",
   "metadata": {},
   "source": [
    "## Grouping\n",
    "\n",
    "Sometimes we are interested in computing summary statistics within levels of a factor or categorical variable. The `groupby` method of the `DataFrame` let's us do this."
   ]
  },
  {
   "cell_type": "code",
   "execution_count": null,
   "id": "05fe2758-027e-4d5f-9e5d-ddf3dad3f678",
   "metadata": {
    "tags": []
   },
   "outputs": [],
   "source": [
    "# compute the total damage done by hurricanes in each year\n",
    "hurricane.groupby('Year')['Damage2014'].sum()"
   ]
  },
  {
   "cell_type": "code",
   "execution_count": null,
   "id": "2a112a51-b4f8-4232-887b-e210d8c6fd55",
   "metadata": {
    "tags": []
   },
   "outputs": [],
   "source": [
    "# compute the total deaths associated with hurricanes in each year\n",
    "hurricane.groupby('Year')['Deaths'].sum()"
   ]
  },
  {
   "cell_type": "markdown",
   "id": "56dd8b54-f545-42f1-b223-04cb41e9097b",
   "metadata": {},
   "source": [
    "### Exercise 3: Grouping by year\n",
    "\n",
    "Use the `groupby` method to determine the average wind speed of all hurricanes in each year."
   ]
  },
  {
   "cell_type": "code",
   "execution_count": null,
   "id": "ffd0c962-1ada-4ec7-bb1b-574821680468",
   "metadata": {
    "tags": []
   },
   "outputs": [],
   "source": [
    "# compute average WindSpeed of hurricanes in each year?\n"
   ]
  },
  {
   "cell_type": "markdown",
   "id": "86bf361b-1d52-4ce3-b76a-692c10cf1209",
   "metadata": {
    "tags": []
   },
   "source": [
    "## Filtering rows\n",
    "\n",
    "Sometimes we want to obtain a subset of the data such that the values of a particular column are within a certain range or satisfy some other criteria. This is achieved using indexing or filtering"
   ]
  },
  {
   "cell_type": "code",
   "execution_count": null,
   "id": "498878e5-17ce-40b3-a31d-18b895b49072",
   "metadata": {
    "tags": []
   },
   "outputs": [],
   "source": [
    "hurricane['Year'] > 2000"
   ]
  },
  {
   "cell_type": "code",
   "execution_count": null,
   "id": "77c3dae0-83ec-4b63-bccc-b979639b5a0d",
   "metadata": {
    "tags": []
   },
   "outputs": [],
   "source": [
    "hurricane_after2000 = hurricane[hurricane['Year'] > 2000]\n",
    "hurricane_after2000.head()"
   ]
  },
  {
   "cell_type": "code",
   "execution_count": null,
   "id": "32044eb6-741e-49d8-8b0a-2e062ed3ada7",
   "metadata": {
    "tags": []
   },
   "outputs": [],
   "source": [
    "hurricane_bw = hurricane[hurricane['Year'].between(1990, 2000)]\n",
    "hurricane_bw.head()"
   ]
  },
  {
   "cell_type": "markdown",
   "id": "fa1813dc-976c-4fc6-b053-8b8f824b03bf",
   "metadata": {},
   "source": [
    "The `loc` and `iloc` (integer location) functions are used to subset rows and columns at the same time."
   ]
  },
  {
   "cell_type": "code",
   "execution_count": null,
   "id": "e25f37e4-d7b4-476e-925f-800a8643da7f",
   "metadata": {
    "tags": []
   },
   "outputs": [],
   "source": [
    "deaths_after2000 = hurricane.loc[hurricane['Year'] > 2000, ['Year', 'Deaths']]\n",
    "deaths_after2000.head()"
   ]
  },
  {
   "cell_type": "code",
   "execution_count": null,
   "id": "2a60762a-7d1e-4d9c-bdf5-78f655110621",
   "metadata": {
    "tags": []
   },
   "outputs": [],
   "source": [
    "hurricane.iloc[0, [0, 1]] # first row and first and second columns"
   ]
  },
  {
   "cell_type": "markdown",
   "id": "0d00b5bb-2479-4cb4-ad42-68d74dbc673c",
   "metadata": {},
   "source": [
    "### Exercise 4: Subsetting\n",
    "\n",
    "Use the `loc` method to get just the name, year, and damage caused by hurricanes whose wind speed was at least 100 mph. "
   ]
  },
  {
   "cell_type": "code",
   "execution_count": null,
   "id": "20a04fd8-2102-462c-a128-03950959f740",
   "metadata": {},
   "outputs": [],
   "source": []
  },
  {
   "cell_type": "markdown",
   "id": "9c3ae6a8-a73c-40d5-bf6a-0091c0bb4233",
   "metadata": {},
   "source": [
    "### Exercise 4(b): Subsetting using `isin` (Bonus)\n",
    "\n",
    "Use the `startswith` method in the same way as the `between` method above to get the subset of the data on just hurricanes whose name begins with \"B\" (note the hurricane names are capitalized). This will require that the column be cast to an array of strings first by calling `hurricane['Name'].str` and THEN using `startswith`."
   ]
  },
  {
   "cell_type": "code",
   "execution_count": null,
   "id": "ea53effe-ef2a-4bce-bf42-ecf10e87a4de",
   "metadata": {
    "tags": []
   },
   "outputs": [],
   "source": [
    "hurricane[hurricane['Name'].str.startswith('B')]"
   ]
  },
  {
   "cell_type": "markdown",
   "id": "c0eb8de6-1b33-4269-91a7-3dbe2c7ac1db",
   "metadata": {},
   "source": [
    "## Joining Data Frames\n",
    "\n",
    "Joining data frames is a good way to combine information. When joining two data frames, you need to join them on a column they have in common. This will be called the `ID` column. In this example, we will combine the `hurricane` data with yearly data on the ocean surface temperatures. The `Year` column will be the common `ID` column that we will join on.\n",
    "\n",
    "Begin by defining the table on the left and the table on the right. There are four ways of joining two data frames:\n",
    "\n",
    "* **INNER JOIN** - returns the rows where there is a match in the `ID` column of both tables.\n",
    "* **LEFT JOIN** - this will return all rows in the left table even if there are no matches in the right table.\n",
    "* **RIGHT JOIN** - this will return all rows in the right table even if there are no matches in the left table.\n",
    "* **OUTER JOIN** - think of this as combining the results of the left and right join. This will return all rows from both tables and putting `None` for those missing matches.\n",
    "\n",
    "Joining data frames is achieved using the `merge` function: https://pandas.pydata.org/docs/reference/api/pandas.DataFrame.merge.html"
   ]
  },
  {
   "cell_type": "code",
   "execution_count": null,
   "id": "cd98b289-a95b-4d61-a32b-0f42d499c202",
   "metadata": {
    "tags": []
   },
   "outputs": [],
   "source": [
    "temps = pd.read_csv(\"data/temps.csv\")\n",
    "temps.head()"
   ]
  },
  {
   "cell_type": "code",
   "execution_count": null,
   "id": "ecfda613-ec6d-4214-9942-c51653427c89",
   "metadata": {
    "tags": []
   },
   "outputs": [],
   "source": [
    "print(temps['Year'].unique)"
   ]
  },
  {
   "cell_type": "code",
   "execution_count": null,
   "id": "bc39fd9a-e4f8-4dca-b747-26322eb0242e",
   "metadata": {
    "tags": []
   },
   "outputs": [],
   "source": [
    "print(hurricane['Year'].unique)"
   ]
  },
  {
   "cell_type": "code",
   "execution_count": null,
   "id": "b30459b0-9a76-438f-9f25-0bb6306fef22",
   "metadata": {
    "tags": []
   },
   "outputs": [],
   "source": [
    "# perform an inner join to keep only the years present in both data frames\n",
    "# here hurricane is the left table\n",
    "pd.merge(hurricane, temps, on='Year', how='inner')"
   ]
  },
  {
   "cell_type": "code",
   "execution_count": null,
   "id": "9cfacb83-e125-40e7-a429-7293a49ea278",
   "metadata": {
    "tags": []
   },
   "outputs": [],
   "source": [
    "# perform a right join to keep all the temps even though some of those years\n",
    "# are not in the hurricane data frame\n",
    "pd.merge(hurricane, temps, on='Year', how='right').head(25)"
   ]
  },
  {
   "cell_type": "markdown",
   "id": "7fc2803e-93dd-42fe-a7de-2c9a5f481d96",
   "metadata": {},
   "source": [
    "### Exsercise 5: Joins\n",
    "\n",
    "Using `hurricane` as the left table and `temps` as the right table, what would a left join do? Would this be equivalent to a outer join in this scenario? You might want to consult the documentation: https://pandas.pydata.org/docs/reference/api/pandas.DataFrame.merge.html"
   ]
  },
  {
   "cell_type": "code",
   "execution_count": null,
   "id": "f8aacf93-51c2-4133-aa95-ac7830a2b20b",
   "metadata": {},
   "outputs": [],
   "source": []
  },
  {
   "cell_type": "markdown",
   "id": "e9082859-f493-423d-9b1a-6b2f1a3035fc",
   "metadata": {},
   "source": [
    "## Basic Data Visualizations\n",
    "\n",
    "We will cover creating `figure` objects in `matplotlib`. You can think of a `figure` as the canvas for the visualization you want to make. We will look at creating histograms and scatter plots."
   ]
  },
  {
   "cell_type": "code",
   "execution_count": null,
   "id": "8dd18ce8-da8e-4436-8226-0fba85eb479c",
   "metadata": {
    "tags": []
   },
   "outputs": [],
   "source": [
    "from matplotlib import pyplot as plt"
   ]
  },
  {
   "cell_type": "markdown",
   "id": "2d9dcba8-7ae6-4947-ab15-38c65af60ab7",
   "metadata": {},
   "source": [
    "Figures are created using the `figure` function. After adding the plots to the figure, use the `show` function to display it."
   ]
  },
  {
   "cell_type": "code",
   "execution_count": null,
   "id": "ce1ea8c9-fa08-44d9-b7eb-033dfb70fbc4",
   "metadata": {
    "tags": []
   },
   "outputs": [],
   "source": [
    "plt.figure()\n",
    "plt.show() # empty right now"
   ]
  },
  {
   "cell_type": "markdown",
   "id": "f90adf40-6f82-4956-8f4e-ba491b843c4c",
   "metadata": {},
   "source": [
    "Here is the full list of options available for a histogram: https://matplotlib.org/stable/api/_as_gen/matplotlib.pyplot.hist.html\n",
    "\n",
    "The most important ones are `bins`, `density`, and `color`."
   ]
  },
  {
   "cell_type": "code",
   "execution_count": null,
   "id": "82179695-ab80-4d40-b168-706d2c9845d2",
   "metadata": {
    "tags": []
   },
   "outputs": [],
   "source": [
    "plt.hist(hurricane['Damage2014']);\n",
    "plt.show()"
   ]
  },
  {
   "cell_type": "code",
   "execution_count": null,
   "id": "83239c55-67bd-4b63-9aba-ec485c3a9fc2",
   "metadata": {
    "tags": []
   },
   "outputs": [],
   "source": [
    "plt.figure()\n",
    "plt.hist(hurricane['Damage2014'], bins=30, color='red', density=True);\n",
    "plt.show()"
   ]
  },
  {
   "cell_type": "markdown",
   "id": "c5a6490a-5834-434f-91c3-b446ab64b765",
   "metadata": {},
   "source": [
    "Chart labels are added using `xlabel` and `ylabel`. Titles are added using `title`."
   ]
  },
  {
   "cell_type": "code",
   "execution_count": null,
   "id": "85abf389-3c1c-4b0b-8e6c-8999b24bfb40",
   "metadata": {
    "tags": []
   },
   "outputs": [],
   "source": [
    "plt.figure()\n",
    "plt.hist(hurricane['Damage2014'], bins=30, color='red', density=True);\n",
    "plt.xlabel('Damages')\n",
    "plt.ylabel('Density')\n",
    "plt.title('Damanges in USD (relative to 2014)')\n",
    "plt.show()"
   ]
  },
  {
   "cell_type": "markdown",
   "id": "0797e05b-adc7-4139-8c42-3940ca090dde",
   "metadata": {},
   "source": [
    "Scatter plots are made in a similar fashion using the `scatter` function: https://matplotlib.org/stable/api/_as_gen/matplotlib.pyplot.scatter.html\n",
    "\n",
    "The most important options here are `s` (marker size), `c` (color), and `marker` (the style of the marker)."
   ]
  },
  {
   "cell_type": "code",
   "execution_count": null,
   "id": "07277647-85e2-417f-bdd2-5f84f49688ef",
   "metadata": {
    "tags": []
   },
   "outputs": [],
   "source": [
    "plt.figure()\n",
    "plt.scatter(x='WindSpeed', y='Damage2014', data=hurricane, c='green', marker='+')\n",
    "plt.xlabel('Wind Speed (mph)')\n",
    "plt.ylabel('Damages (2014 USD)')\n",
    "plt.title('Damages against Wind Speed')\n",
    "plt.show()"
   ]
  },
  {
   "cell_type": "markdown",
   "id": "7fcce253-6098-4616-92b7-8809208d7b20",
   "metadata": {},
   "source": [
    "Matplotlib offers an easy way to combine plots using the `subplots` function which creates and returns a `figure` and set of `axes` objects to add plots to. "
   ]
  },
  {
   "cell_type": "code",
   "execution_count": null,
   "id": "4e5cf4de-3a01-4556-84fa-5e243d7bec1b",
   "metadata": {
    "tags": []
   },
   "outputs": [],
   "source": [
    "fig, ax = plt.subplots(nrows=1, ncols=2, figsize=(10,5))\n",
    "ax[0].hist(hurricane['Damage2014'], bins=30, color='red', density=True);\n",
    "ax[0].set_xlabel('Damages')\n",
    "ax[0].set_ylabel('Density')\n",
    "ax[0].set_title('Damanges in USD (relative to 2014)')\n",
    "\n",
    "ax[1].scatter(x='WindSpeed', y='Damage2014', data=hurricane, c='green', marker='+')\n",
    "ax[1].set_xlabel('Wind Speed (mph)')\n",
    "ax[1].set_ylabel('Damages (2014 USD)')\n",
    "ax[1].set_title('Damages against Wind Speed')\n",
    "plt.show()"
   ]
  },
  {
   "cell_type": "markdown",
   "id": "f6b1a575-df62-4112-8a2c-61babb8618b9",
   "metadata": {},
   "source": [
    "### Exercise 6: Time series plot\n",
    "\n",
    "Time series plots can be made using the `plot` function with the time variable on the x-axis. Start by creating a new figure with two subplots aranged side by side using `plt.subplots()`. Then plot the wind speed over the years on the left and damanges over the years on the right. "
   ]
  },
  {
   "cell_type": "code",
   "execution_count": null,
   "id": "604f8d23-e250-43a3-af7d-a3ef1cf52513",
   "metadata": {},
   "outputs": [],
   "source": []
  }
 ],
 "metadata": {
  "kernelspec": {
   "display_name": "Python 3 (ipykernel)",
   "language": "python",
   "name": "python3"
  },
  "language_info": {
   "codemirror_mode": {
    "name": "ipython",
    "version": 3
   },
   "file_extension": ".py",
   "mimetype": "text/x-python",
   "name": "python",
   "nbconvert_exporter": "python",
   "pygments_lexer": "ipython3",
   "version": "3.11.5"
  }
 },
 "nbformat": 4,
 "nbformat_minor": 5
}
